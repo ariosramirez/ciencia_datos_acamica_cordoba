{
 "cells": [
  {
   "cell_type": "code",
   "execution_count": 1,
   "metadata": {},
   "outputs": [],
   "source": [
    "from sklearn import svm\n",
    "from sklearn.datasets import samples_generator\n",
    "from sklearn.feature_selection import SelectKBest\n",
    "from sklearn.feature_selection import f_regression\n",
    "from sklearn.pipeline import Pipeline"
   ]
  },
  {
   "cell_type": "code",
   "execution_count": null,
   "metadata": {},
   "outputs": [],
   "source": [
    "\n",
    "# generate some data to play with\n",
    "X, y = samples_generator.make_classification(\n",
    "    n_informative=5, n_redundant=0, random_state=42)\n",
    "# ANOVA SVM-C\n",
    "anova_filter = SelectKBest(f_regression, k=5)\n",
    "clf = svm.SVC(kernel='linear')\n",
    "anova_svm = Pipeline([('anova', anova_filter), ('svc', clf)])\n",
    ">>> # You can set the parameters using the names issued\n",
    ">>> # For instance, fit using a k of 10 in the SelectKBest\n",
    ">>> # and a parameter 'C' of the svm\n",
    "anova_svm.set_params(anova__k=10, svc__C=.1).fit(X, y)\n",
    "...                      \n",
    "Pipeline(memory=None,\n",
    "         steps=[('anova', SelectKBest(...)),\n",
    "                ('svc', SVC(...))])\n",
    ">>> prediction = anova_svm.predict(X)\n",
    ">>> anova_svm.score(X, y)                        \n",
    "0.83\n",
    ">>> # getting the selected features chosen by anova_filter\n",
    ">>> anova_svm.named_steps['anova'].get_support()\n",
    "... \n",
    "array([False, False,  True,  True, False, False, True,  True, False,\n",
    "       True,  False,  True,  True, False, True,  False, True, True,\n",
    "       False, False])\n",
    ">>> # Another way to get selected features chosen by anova_filter\n",
    ">>> anova_svm.named_steps.anova.get_support()\n",
    "... \n",
    "array([False, False,  True,  True, False, False, True,  True, False,\n",
    "       True,  False,  True,  True, False, True,  False, True, True,\n",
    "       False, False])"
   ]
  }
 ],
 "metadata": {
  "kernelspec": {
   "display_name": "Python 3",
   "language": "python",
   "name": "python3"
  },
  "language_info": {
   "codemirror_mode": {
    "name": "ipython",
    "version": 3
   },
   "file_extension": ".py",
   "mimetype": "text/x-python",
   "name": "python",
   "nbconvert_exporter": "python",
   "pygments_lexer": "ipython3",
   "version": "3.6.7"
  }
 },
 "nbformat": 4,
 "nbformat_minor": 2
}
