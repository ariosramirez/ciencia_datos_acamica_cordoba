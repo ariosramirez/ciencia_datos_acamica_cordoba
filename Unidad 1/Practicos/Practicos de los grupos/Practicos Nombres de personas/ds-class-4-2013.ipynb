{
 "cells": [
  {
   "cell_type": "markdown",
   "metadata": {},
   "source": [
    "# Nombres de personas 2010-2014\n",
    "\n",
    "Listado de los nombres registrados ante el Registro Nacional de las Personas entre 2010 y 2014 inclusive, agrupados por nombre y año.\n"
   ]
  },
  {
   "cell_type": "markdown",
   "metadata": {},
   "source": [
    "## Año 2013\n",
    "\n",
    "* ¿Cuantos nombres únicos hay en el año que les tocó? Y ¿Cuantos nombres únicos hay en el total del dataset?,\n",
    "* Comparar los nombres en el año que les tocó y los del dataset en general y mostrar los que NO APARECEN en el año que les tocó.\n",
    "* Graficar los 5 nombres más usados en su año y los 5 nombres más usados en todo el dataset.\n",
    "* Graficar los 5 nombres MENOS usados en su año y los 5 nombres MENOS usados en todo el dataset.\n",
    "\n",
    "\n"
   ]
  },
  {
   "cell_type": "code",
   "execution_count": 16,
   "metadata": {},
   "outputs": [],
   "source": [
    "import pandas as pd\n",
    "ds = pd.read_csv(\"nombres-2010-2014.csv\")"
   ]
  },
  {
   "cell_type": "markdown",
   "metadata": {},
   "source": [
    "## Total de nombres únicos en el dataset"
   ]
  },
  {
   "cell_type": "code",
   "execution_count": 71,
   "metadata": {},
   "outputs": [
    {
     "data": {
      "text/plain": [
       "593141"
      ]
     },
     "execution_count": 71,
     "metadata": {},
     "output_type": "execute_result"
    }
   ],
   "source": [
    "len(ds.nombre.unique())"
   ]
  },
  {
   "cell_type": "markdown",
   "metadata": {},
   "source": [
    "## Total de nombres únicos en 2013"
   ]
  },
  {
   "cell_type": "code",
   "execution_count": 19,
   "metadata": {},
   "outputs": [],
   "source": [
    "year_list = ds.anio.unique()"
   ]
  },
  {
   "cell_type": "code",
   "execution_count": 20,
   "metadata": {},
   "outputs": [],
   "source": [
    "YEAR = 2013"
   ]
  },
  {
   "cell_type": "code",
   "execution_count": 21,
   "metadata": {},
   "outputs": [
    {
     "data": {
      "text/plain": [
       "204470"
      ]
     },
     "execution_count": 21,
     "metadata": {},
     "output_type": "execute_result"
    }
   ],
   "source": [
    "len(ds.loc[ds.anio == YEAR].nombre.unique())"
   ]
  },
  {
   "cell_type": "markdown",
   "metadata": {},
   "source": [
    "## Nombres que no aparecen en 2013"
   ]
  },
  {
   "cell_type": "code",
   "execution_count": 22,
   "metadata": {},
   "outputs": [],
   "source": [
    "names_total = ds.nombre.unique()"
   ]
  },
  {
   "cell_type": "code",
   "execution_count": 86,
   "metadata": {},
   "outputs": [],
   "source": [
    "names_2013 = ds.loc[ds.anio == YEAR].nombre.unique()"
   ]
  },
  {
   "cell_type": "code",
   "execution_count": 87,
   "metadata": {},
   "outputs": [],
   "source": [
    "names_diff = list(set(names_total) - set(names_2013))  "
   ]
  },
  {
   "cell_type": "code",
   "execution_count": 88,
   "metadata": {},
   "outputs": [
    {
     "data": {
      "text/html": [
       "<div>\n",
       "<style scoped>\n",
       "    .dataframe tbody tr th:only-of-type {\n",
       "        vertical-align: middle;\n",
       "    }\n",
       "\n",
       "    .dataframe tbody tr th {\n",
       "        vertical-align: top;\n",
       "    }\n",
       "\n",
       "    .dataframe thead th {\n",
       "        text-align: right;\n",
       "    }\n",
       "</style>\n",
       "<table border=\"1\" class=\"dataframe\">\n",
       "  <thead>\n",
       "    <tr style=\"text-align: right;\">\n",
       "      <th></th>\n",
       "      <th>0</th>\n",
       "    </tr>\n",
       "  </thead>\n",
       "  <tbody>\n",
       "    <tr>\n",
       "      <th>0</th>\n",
       "      <td>Jehiel Sebastian</td>\n",
       "    </tr>\n",
       "    <tr>\n",
       "      <th>1</th>\n",
       "      <td>Narela Yazmín</td>\n",
       "    </tr>\n",
       "    <tr>\n",
       "      <th>2</th>\n",
       "      <td>Martina Malena Margarita</td>\n",
       "    </tr>\n",
       "    <tr>\n",
       "      <th>3</th>\n",
       "      <td>Claudio Fantino</td>\n",
       "    </tr>\n",
       "    <tr>\n",
       "      <th>4</th>\n",
       "      <td>Zahira Ivana</td>\n",
       "    </tr>\n",
       "    <tr>\n",
       "      <th>5</th>\n",
       "      <td>Rut Loana Estefania</td>\n",
       "    </tr>\n",
       "    <tr>\n",
       "      <th>6</th>\n",
       "      <td>Yanina Jennifer</td>\n",
       "    </tr>\n",
       "    <tr>\n",
       "      <th>7</th>\n",
       "      <td>Dennis Paul</td>\n",
       "    </tr>\n",
       "    <tr>\n",
       "      <th>8</th>\n",
       "      <td>Jeremy Daryl</td>\n",
       "    </tr>\n",
       "    <tr>\n",
       "      <th>9</th>\n",
       "      <td>Byron Emiliano Damián</td>\n",
       "    </tr>\n",
       "    <tr>\n",
       "      <th>10</th>\n",
       "      <td>Valentina Florencia Alejandra</td>\n",
       "    </tr>\n",
       "    <tr>\n",
       "      <th>11</th>\n",
       "      <td>Eliseo Gabriel Emanuel</td>\n",
       "    </tr>\n",
       "    <tr>\n",
       "      <th>12</th>\n",
       "      <td>Anibal Hernán</td>\n",
       "    </tr>\n",
       "    <tr>\n",
       "      <th>13</th>\n",
       "      <td>Sergio Ignacio Javier</td>\n",
       "    </tr>\n",
       "    <tr>\n",
       "      <th>14</th>\n",
       "      <td>Nayra  Lara</td>\n",
       "    </tr>\n",
       "    <tr>\n",
       "      <th>15</th>\n",
       "      <td>Hannah Araceli</td>\n",
       "    </tr>\n",
       "    <tr>\n",
       "      <th>16</th>\n",
       "      <td>Azul Jazmin Maria</td>\n",
       "    </tr>\n",
       "    <tr>\n",
       "      <th>17</th>\n",
       "      <td>Lorenzo Marty</td>\n",
       "    </tr>\n",
       "    <tr>\n",
       "      <th>18</th>\n",
       "      <td>Dominga Marisol</td>\n",
       "    </tr>\n",
       "    <tr>\n",
       "      <th>19</th>\n",
       "      <td>Thiago Eriel</td>\n",
       "    </tr>\n",
       "    <tr>\n",
       "      <th>20</th>\n",
       "      <td>Julia Isolina</td>\n",
       "    </tr>\n",
       "    <tr>\n",
       "      <th>21</th>\n",
       "      <td>Tyara   Xiomara</td>\n",
       "    </tr>\n",
       "    <tr>\n",
       "      <th>22</th>\n",
       "      <td>Lucas Fabio</td>\n",
       "    </tr>\n",
       "    <tr>\n",
       "      <th>23</th>\n",
       "      <td>Benjamín Joseph</td>\n",
       "    </tr>\n",
       "    <tr>\n",
       "      <th>24</th>\n",
       "      <td>Jeronimo Silvestre</td>\n",
       "    </tr>\n",
       "    <tr>\n",
       "      <th>25</th>\n",
       "      <td>Francisca Esperanza</td>\n",
       "    </tr>\n",
       "    <tr>\n",
       "      <th>26</th>\n",
       "      <td>Lautaro Uriel Roman</td>\n",
       "    </tr>\n",
       "    <tr>\n",
       "      <th>27</th>\n",
       "      <td>Rihanna Narela</td>\n",
       "    </tr>\n",
       "    <tr>\n",
       "      <th>28</th>\n",
       "      <td>Ciro Joao Lizandro</td>\n",
       "    </tr>\n",
       "    <tr>\n",
       "      <th>29</th>\n",
       "      <td>Jery Nicolas</td>\n",
       "    </tr>\n",
       "    <tr>\n",
       "      <th>...</th>\n",
       "      <td>...</td>\n",
       "    </tr>\n",
       "    <tr>\n",
       "      <th>388641</th>\n",
       "      <td>Brianna Nayme</td>\n",
       "    </tr>\n",
       "    <tr>\n",
       "      <th>388642</th>\n",
       "      <td>Fabricio Jonatán</td>\n",
       "    </tr>\n",
       "    <tr>\n",
       "      <th>388643</th>\n",
       "      <td>Yazmin Nelida Ailin</td>\n",
       "    </tr>\n",
       "    <tr>\n",
       "      <th>388644</th>\n",
       "      <td>Benjamin Leocadio</td>\n",
       "    </tr>\n",
       "    <tr>\n",
       "      <th>388645</th>\n",
       "      <td>Erik Darian</td>\n",
       "    </tr>\n",
       "    <tr>\n",
       "      <th>388646</th>\n",
       "      <td>Stefania Estrella Maria</td>\n",
       "    </tr>\n",
       "    <tr>\n",
       "      <th>388647</th>\n",
       "      <td>Fiamma Morella</td>\n",
       "    </tr>\n",
       "    <tr>\n",
       "      <th>388648</th>\n",
       "      <td>Lautaro Fehmi</td>\n",
       "    </tr>\n",
       "    <tr>\n",
       "      <th>388649</th>\n",
       "      <td>Adelky Adam</td>\n",
       "    </tr>\n",
       "    <tr>\n",
       "      <th>388650</th>\n",
       "      <td>Leira Nahir</td>\n",
       "    </tr>\n",
       "    <tr>\n",
       "      <th>388651</th>\n",
       "      <td>Yessica Vanina</td>\n",
       "    </tr>\n",
       "    <tr>\n",
       "      <th>388652</th>\n",
       "      <td>Victoria Ivanna</td>\n",
       "    </tr>\n",
       "    <tr>\n",
       "      <th>388653</th>\n",
       "      <td>Zoribel Kimberly</td>\n",
       "    </tr>\n",
       "    <tr>\n",
       "      <th>388654</th>\n",
       "      <td>Giannina Luján</td>\n",
       "    </tr>\n",
       "    <tr>\n",
       "      <th>388655</th>\n",
       "      <td>Celeste Angela Tiziana</td>\n",
       "    </tr>\n",
       "    <tr>\n",
       "      <th>388656</th>\n",
       "      <td>Angel Raymundo</td>\n",
       "    </tr>\n",
       "    <tr>\n",
       "      <th>388657</th>\n",
       "      <td>Adelina Noemi</td>\n",
       "    </tr>\n",
       "    <tr>\n",
       "      <th>388658</th>\n",
       "      <td>Bejamin Tobias</td>\n",
       "    </tr>\n",
       "    <tr>\n",
       "      <th>388659</th>\n",
       "      <td>Iara Milagro</td>\n",
       "    </tr>\n",
       "    <tr>\n",
       "      <th>388660</th>\n",
       "      <td>Rosa Dionicia</td>\n",
       "    </tr>\n",
       "    <tr>\n",
       "      <th>388661</th>\n",
       "      <td>Alejandra Aimará</td>\n",
       "    </tr>\n",
       "    <tr>\n",
       "      <th>388662</th>\n",
       "      <td>Guillermo Efrain</td>\n",
       "    </tr>\n",
       "    <tr>\n",
       "      <th>388663</th>\n",
       "      <td>Antony  Emanuel</td>\n",
       "    </tr>\n",
       "    <tr>\n",
       "      <th>388664</th>\n",
       "      <td>Allison Jullieth</td>\n",
       "    </tr>\n",
       "    <tr>\n",
       "      <th>388665</th>\n",
       "      <td>Naomi Rihanna</td>\n",
       "    </tr>\n",
       "    <tr>\n",
       "      <th>388666</th>\n",
       "      <td>Florencia Paloma Eluney</td>\n",
       "    </tr>\n",
       "    <tr>\n",
       "      <th>388667</th>\n",
       "      <td>Charis Victoria</td>\n",
       "    </tr>\n",
       "    <tr>\n",
       "      <th>388668</th>\n",
       "      <td>Iam Josue</td>\n",
       "    </tr>\n",
       "    <tr>\n",
       "      <th>388669</th>\n",
       "      <td>Adriel Matheo</td>\n",
       "    </tr>\n",
       "    <tr>\n",
       "      <th>388670</th>\n",
       "      <td>Vicente Thadeo</td>\n",
       "    </tr>\n",
       "  </tbody>\n",
       "</table>\n",
       "<p>388671 rows × 1 columns</p>\n",
       "</div>"
      ],
      "text/plain": [
       "                                    0\n",
       "0                    Jehiel Sebastian\n",
       "1                       Narela Yazmín\n",
       "2            Martina Malena Margarita\n",
       "3                     Claudio Fantino\n",
       "4                        Zahira Ivana\n",
       "5                 Rut Loana Estefania\n",
       "6                     Yanina Jennifer\n",
       "7                         Dennis Paul\n",
       "8                        Jeremy Daryl\n",
       "9               Byron Emiliano Damián\n",
       "10      Valentina Florencia Alejandra\n",
       "11             Eliseo Gabriel Emanuel\n",
       "12                      Anibal Hernán\n",
       "13              Sergio Ignacio Javier\n",
       "14                        Nayra  Lara\n",
       "15                     Hannah Araceli\n",
       "16                  Azul Jazmin Maria\n",
       "17                      Lorenzo Marty\n",
       "18                    Dominga Marisol\n",
       "19                       Thiago Eriel\n",
       "20                      Julia Isolina\n",
       "21                    Tyara   Xiomara\n",
       "22                        Lucas Fabio\n",
       "23                    Benjamín Joseph\n",
       "24                 Jeronimo Silvestre\n",
       "25                Francisca Esperanza\n",
       "26                Lautaro Uriel Roman\n",
       "27                     Rihanna Narela\n",
       "28                 Ciro Joao Lizandro\n",
       "29                       Jery Nicolas\n",
       "...                               ...\n",
       "388641                  Brianna Nayme\n",
       "388642               Fabricio Jonatán\n",
       "388643            Yazmin Nelida Ailin\n",
       "388644              Benjamin Leocadio\n",
       "388645                    Erik Darian\n",
       "388646        Stefania Estrella Maria\n",
       "388647                 Fiamma Morella\n",
       "388648                  Lautaro Fehmi\n",
       "388649                    Adelky Adam\n",
       "388650                    Leira Nahir\n",
       "388651                 Yessica Vanina\n",
       "388652                Victoria Ivanna\n",
       "388653               Zoribel Kimberly\n",
       "388654                 Giannina Luján\n",
       "388655         Celeste Angela Tiziana\n",
       "388656                 Angel Raymundo\n",
       "388657                  Adelina Noemi\n",
       "388658                 Bejamin Tobias\n",
       "388659                   Iara Milagro\n",
       "388660                  Rosa Dionicia\n",
       "388661               Alejandra Aimará\n",
       "388662               Guillermo Efrain\n",
       "388663                Antony  Emanuel\n",
       "388664               Allison Jullieth\n",
       "388665                  Naomi Rihanna\n",
       "388666        Florencia Paloma Eluney\n",
       "388667                Charis Victoria\n",
       "388668                      Iam Josue\n",
       "388669                  Adriel Matheo\n",
       "388670                 Vicente Thadeo\n",
       "\n",
       "[388671 rows x 1 columns]"
      ]
     },
     "execution_count": 88,
     "metadata": {},
     "output_type": "execute_result"
    }
   ],
   "source": [
    "pd.DataFrame(names_diff)"
   ]
  },
  {
   "cell_type": "markdown",
   "metadata": {},
   "source": [
    "## Nombres más usados en todo el dataset"
   ]
  },
  {
   "cell_type": "code",
   "execution_count": 26,
   "metadata": {},
   "outputs": [],
   "source": [
    "import matplotlib\n",
    "import matplotlib.pyplot as plt\n",
    "import seaborn as sns\n",
    "sns.set(style=\"whitegrid\")\n",
    "\n",
    "%matplotlib inline\n",
    "\n"
   ]
  },
  {
   "cell_type": "code",
   "execution_count": 48,
   "metadata": {},
   "outputs": [
    {
     "data": {
      "image/png": "[encoded data removed]",
      "text/plain": [
       "<Figure size 432x288 with 1 Axes>"
      ]
     },
     "metadata": {
      "needs_background": "light"
     },
     "output_type": "display_data"
    }
   ],
   "source": [
    "ds_all = ds.groupby('nombre').sum().sort_values('cantidad',ascending=False).head()\n",
    "sns.barplot(x=ds_all.index ,y='cantidad',data=ds_all )\n",
    "plt.title('Este es el gráfico de los 5 nombres más usados en todo el dataset')\n",
    "plt.show()"
   ]
  },
  {
   "cell_type": "markdown",
   "metadata": {},
   "source": [
    "## Nombres más usados en 2013"
   ]
  },
  {
   "cell_type": "code",
   "execution_count": 49,
   "metadata": {},
   "outputs": [
    {
     "data": {
      "image/png": "[encoded data removed]",
      "text/plain": [
       "<Figure size 432x288 with 1 Axes>"
      ]
     },
     "metadata": {
      "needs_background": "light"
     },
     "output_type": "display_data"
    }
   ],
   "source": [
    "ds_2013 = ds.loc[ds.anio==YEAR].groupby('nombre').sum().sort_values('cantidad',ascending=False).head()\n",
    "sns.barplot(x=ds_2013.index ,y='cantidad',data=ds_2013 )\n",
    "plt.title('Este es el gráfico de los 5 nombres más usados en {}'.format(YEAR))\n",
    "plt.show()"
   ]
  },
  {
   "cell_type": "markdown",
   "metadata": {},
   "source": [
    "## Nombres menos usados todo el dataset\n"
   ]
  },
  {
   "cell_type": "code",
   "execution_count": 55,
   "metadata": {},
   "outputs": [
    {
     "data": {
      "image/png": "[encoded data removed]",
      "text/plain": [
       "<Figure size 432x288 with 1 Axes>"
      ]
     },
     "metadata": {
      "needs_background": "light"
     },
     "output_type": "display_data"
    }
   ],
   "source": [
    "ds_all_less = ds.groupby('nombre').sum().sort_values('cantidad',ascending=True).head()\n",
    "sns.barplot(y=ds_all_less.index ,x='cantidad',data=ds_all_less )\n",
    "plt.title('Este es el gráfico de los 5 nombres menos usados en todo el dataset')\n",
    "plt.show()"
   ]
  },
  {
   "cell_type": "markdown",
   "metadata": {},
   "source": [
    "## Nombres menos usados en 2013"
   ]
  },
  {
   "cell_type": "code",
   "execution_count": 56,
   "metadata": {
    "scrolled": true
   },
   "outputs": [
    {
     "data": {
      "image/png": "[encoded data removed]",
      "text/plain": [
       "<Figure size 432x288 with 1 Axes>"
      ]
     },
     "metadata": {
      "needs_background": "light"
     },
     "output_type": "display_data"
    }
   ],
   "source": [
    "ds_all_less_2013 = ds.loc[ds.anio==YEAR].groupby('nombre').sum().sort_values('cantidad',ascending=True).head()\n",
    "sns.barplot(y=ds_all_less_2013.index ,x='cantidad',data=ds_all_less_2013 )\n",
    "plt.title('Este es el gráfico de los 5 nombres menos usados en {}'.format(YEAR))\n",
    "plt.show()"
   ]
  },
  {
   "cell_type": "code",
   "execution_count": null,
   "metadata": {},
   "outputs": [],
   "source": []
  }
 ],
 "metadata": {
  "kernelspec": {
   "display_name": "Python 3",
   "language": "python",
   "name": "python3"
  },
  "language_info": {
   "codemirror_mode": {
    "name": "ipython",
    "version": 3
   },
   "file_extension": ".py",
   "mimetype": "text/x-python",
   "name": "python",
   "nbconvert_exporter": "python",
   "pygments_lexer": "ipython3",
   "version": "3.7.0"
  }
 },
 "nbformat": 4,
 "nbformat_minor": 2
}
